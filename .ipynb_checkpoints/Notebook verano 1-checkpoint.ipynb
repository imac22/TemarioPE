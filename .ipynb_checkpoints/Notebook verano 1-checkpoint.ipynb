{
 "cells": [
  {
   "cell_type": "markdown",
   "id": "da11e65a-2516-4b59-aed4-baedc7cab375",
   "metadata": {},
   "source": [
    "# Datos del propietario\n",
    "\n",
    "- José María Ortiz Escamilla\n",
    "- 230110337\n",
    "- 230110337@itsoeh.edu.mx"
   ]
  },
  {
   "cell_type": "markdown",
   "id": "4ecfb591-3b74-4e83-8cc8-4fc06da41214",
   "metadata": {},
   "source": [
    "# Aritmetica basica en Python"
   ]
  },
  {
   "cell_type": "code",
   "execution_count": 3,
   "id": "e819d2f4-ed2c-4f4b-b47e-a5be3ff3965f",
   "metadata": {},
   "outputs": [
    {
     "name": "stdout",
     "output_type": "stream",
     "text": [
      "8\n",
      "-2\n",
      "15\n",
      "0.6\n",
      "243\n",
      "1.7320508075688772\n"
     ]
    }
   ],
   "source": [
    "num1 = 3\n",
    "num2 = 5\n",
    "\n",
    "#Suma\n",
    "suma = num1 + num2 #8\n",
    "\n",
    "#Resta\n",
    "resta = num1 - num2 #-2\n",
    "\n",
    "#Multiplicacion\n",
    "mult = num1 * num2 #15\n",
    "\n",
    "#Divicion\n",
    "div = num1 / num2 #0.6\n",
    "\n",
    "#Potencia\n",
    "pot = num1 ** num2 #243\n",
    "\n",
    "#Raíz\n",
    "import math\n",
    "raiz = math.sqrt(num1) #1.7320508076\n",
    "\n",
    "\n",
    "print(suma)\n",
    "print(resta)\n",
    "print(mult)\n",
    "print(div)\n",
    "print(pot)\n",
    "print(raiz)"
   ]
  },
  {
   "cell_type": "markdown",
   "id": "225d068d-5223-4080-8656-10c01bcc5f37",
   "metadata": {},
   "source": [
    "## Ejercicio Aritmetica Basica"
   ]
  },
  {
   "cell_type": "code",
   "execution_count": 29,
   "id": "07c53909-8347-4f5c-ad1f-7aa4ebf1ac4e",
   "metadata": {},
   "outputs": [
    {
     "name": "stdout",
     "output_type": "stream",
     "text": [
      "5.0\n"
     ]
    }
   ],
   "source": [
    "a, b, c = 1, 2, 1\n",
    "r= (a + 2 * b ) / c\n",
    "\n",
    "print (r)"
   ]
  },
  {
   "cell_type": "markdown",
   "id": "15b903dd-7f69-4c99-b7c9-d5a48b328032",
   "metadata": {},
   "source": [
    "## Ejercicio Formula General"
   ]
  },
  {
   "cell_type": "code",
   "execution_count": 25,
   "id": "561859de-ca55-456a-a0c5-49c2b6f0d845",
   "metadata": {},
   "outputs": [
    {
     "name": "stdout",
     "output_type": "stream",
     "text": [
      "-1.0\n",
      "-1.0\n",
      "\n",
      "Cambio de variables  \n",
      "-0.2679491924311228\n",
      "-3.732050807568877\n",
      "\n",
      "Cambio de variables  \n",
      "-0.25834261322605867\n",
      "-7.741657386773941\n",
      "\n",
      "Cambio de variables  \n",
      "Las raíces son imaginarias\n"
     ]
    }
   ],
   "source": [
    "a, b, c = 1, 2, 1\n",
    "x=b*b-4*a*c\n",
    "x1=(-b+math.sqrt(x))/(2*a)\n",
    "x2=(-b-math.sqrt(x))/(2*a)\n",
    "print(x1)\n",
    "print(x2)\n",
    "\n",
    "print(\"\")\n",
    "print(\"Cambio de variables  \")\n",
    "a, b, c = 1, 4, 1\n",
    "\n",
    "x=b*b-4*a*c\n",
    "x1=(-b+math.sqrt(x))/(2*a)\n",
    "x2=(-b-math.sqrt(x))/(2*a)\n",
    "print(x1)\n",
    "print(x2)\n",
    "\n",
    "print(\"\")\n",
    "print(\"Cambio de variables  \")\n",
    "a, b, c = 1/2 , 4, 1\n",
    "\n",
    "x=b*b-4*a*c\n",
    "x1=(-b+math.sqrt(x))/(2*a)\n",
    "x2=(-b-math.sqrt(x))/(2*a)\n",
    "print(x1)\n",
    "print(x2)\n",
    "\n",
    "\n",
    "print(\"\")\n",
    "print(\"Cambio de variables  \")\n",
    "a, b, c = 7 , 2, 4\n",
    "\n",
    "x=b*b-4*a*c\n",
    "\n",
    "if x < 0 : \n",
    "    print(\"Las raíces son imaginarias\")\n",
    "else:\n",
    "    \n",
    "    x1=(-b+math.sqrt(x))/(2*a)\n",
    "    x2=(-b-math.sqrt(x))/(2*a)\n",
    "\n",
    "    print(x1)\n",
    "    print(x2)\n"
   ]
  },
  {
   "cell_type": "markdown",
   "id": "cb62eb1e-6499-4cd4-b5b5-98f4c687abc2",
   "metadata": {},
   "source": [
    "## Comparando cadenas"
   ]
  },
  {
   "cell_type": "code",
   "execution_count": 84,
   "id": "800a5ca1-0c68-45c4-9b37-9fde3dba5532",
   "metadata": {},
   "outputs": [
    {
     "data": {
      "text/plain": [
       "True"
      ]
     },
     "execution_count": 84,
     "metadata": {},
     "output_type": "execute_result"
    }
   ],
   "source": [
    "'Mujer' == 'Mujer'"
   ]
  },
  {
   "cell_type": "markdown",
   "id": "bb6d6df3-957c-4887-b199-9522755906eb",
   "metadata": {},
   "source": [
    "## Ejercicio Condicionales (pure Python)"
   ]
  },
  {
   "cell_type": "code",
   "execution_count": 76,
   "id": "d5118623-a345-4c00-8b6f-2c0b0e9175e4",
   "metadata": {},
   "outputs": [
    {
     "name": "stdout",
     "output_type": "stream",
     "text": [
      "1\n"
     ]
    }
   ],
   "source": [
    "g, e = 'Mujer', 31\n",
    "\n",
    "if g == 'Mujer' and e > 30:\n",
    "    print(1)\n",
    "else:\n",
    "    print(0)"
   ]
  },
  {
   "cell_type": "code",
   "execution_count": 83,
   "id": "afe26242-aa7d-491c-b2f4-9a9f78d1b840",
   "metadata": {},
   "outputs": [
    {
     "name": "stdout",
     "output_type": "stream",
     "text": [
      "Par\n"
     ]
    }
   ],
   "source": [
    "num = 12\n",
    "res = num % 2\n",
    "\n",
    "if res == 0:\n",
    "    print('Par')\n",
    "else:\n",
    "    print('Impar')"
   ]
  },
  {
   "cell_type": "markdown",
   "id": "7d844d46-7524-4556-a53d-e314cc39eae4",
   "metadata": {},
   "source": [
    "## Area de un rectangulo"
   ]
  },
  {
   "cell_type": "code",
   "execution_count": 90,
   "id": "2a431436-e03f-44e9-b29d-75d477ceb789",
   "metadata": {},
   "outputs": [
    {
     "name": "stdout",
     "output_type": "stream",
     "text": [
      "El area del rectangulo es igual a:  32\n"
     ]
    }
   ],
   "source": [
    "base, altura = 4, 8\n",
    "\n",
    "if base > 0 and altura > 0:\n",
    "    print(\"El area del rectangulo es igual a: \" , b * h)\n",
    "else:\n",
    "    print(\"Los numeros no deben de ser negativos\")"
   ]
  },
  {
   "cell_type": "markdown",
   "id": "304fa432-5d96-4444-98d8-dfe86847ed5f",
   "metadata": {},
   "source": [
    "## Arreglos (Lista)"
   ]
  },
  {
   "cell_type": "code",
   "execution_count": 91,
   "id": "70ecaad1-9d9b-4009-8ba2-7870daa41954",
   "metadata": {},
   "outputs": [
    {
     "name": "stdout",
     "output_type": "stream",
     "text": [
      "1\n",
      "3.4\n",
      "Hola\n"
     ]
    }
   ],
   "source": [
    "Arreglo = [1, 3.4, 'Hola']\n",
    "for elemento in Arreglo:\n",
    "    print(elemento)"
   ]
  },
  {
   "cell_type": "markdown",
   "id": "111a7b0b-bec5-4ce1-8135-fb72e805fffc",
   "metadata": {},
   "source": [
    "## Operar Sobre Elementos de un Arreglo"
   ]
  },
  {
   "cell_type": "code",
   "execution_count": 93,
   "id": "1ff0e62a-544d-452f-83c4-0db6a29e6dc8",
   "metadata": {},
   "outputs": [
    {
     "name": "stdout",
     "output_type": "stream",
     "text": [
      "3\n",
      "5.4\n",
      "9\n",
      "11\n",
      "8\n"
     ]
    }
   ],
   "source": [
    "Arreglo = [1, 3.4, 7, 9, 6]\n",
    "for elemento in Arreglo:\n",
    "    print(elemento + 2)"
   ]
  },
  {
   "cell_type": "code",
   "execution_count": 109,
   "id": "b3a0b4bf-8263-40fa-9b98-1a1329409456",
   "metadata": {},
   "outputs": [
    {
     "name": "stdout",
     "output_type": "stream",
     "text": [
      "12 es par\n",
      "3 es impar\n",
      "7 es impar\n",
      "4 es par\n",
      "6 es par\n",
      "El total de numeros pares es de  3\n",
      "El total de numeros impares es de  2\n"
     ]
    }
   ],
   "source": [
    "Arreglo = [12, 3, 7, 4, 6]\n",
    "par, imp = 0, 0\n",
    "\n",
    "for elemento in Arreglo:\n",
    "    \n",
    "    if elemento % 2 == 0:\n",
    "        print(elemento, 'es par')\n",
    "        par += 1\n",
    "    else:\n",
    "        print(elemento, 'es impar')\n",
    "        imp += 1\n",
    "        \n",
    "print(\"El total de numeros pares es de \", par)\n",
    "print(\"El total de numeros impares es de \", imp)"
   ]
  },
  {
   "cell_type": "markdown",
   "id": "028ee44d-0fb0-462c-80b0-922e4273f6ce",
   "metadata": {},
   "source": [
    "## Creando Lista"
   ]
  },
  {
   "cell_type": "code",
   "execution_count": 122,
   "id": "a5f61b23-ebc0-482b-abb4-7db91aa9b787",
   "metadata": {},
   "outputs": [
    {
     "name": "stdout",
     "output_type": "stream",
     "text": [
      "[12, 4, 6]\n",
      "6\n",
      "1\n",
      "[3, 7]\n",
      "3\n",
      "0\n"
     ]
    }
   ],
   "source": [
    "Arreglo = [12, 3, 7, 4, 6]\n",
    "\n",
    "lst_par, lst_impar = [], []\n",
    "\n",
    "par, imp = 0, 0\n",
    "\n",
    "for elemento in Arreglo:\n",
    "    \n",
    "    if elemento % 2 == 0:\n",
    "        lst_par.append(elemento)\n",
    "        par += 1\n",
    "    else:\n",
    "        lst_impar.append(elemento)\n",
    "        imp += 1\n",
    "\n",
    "print(lst_par)\n",
    "print(lst_par[2])\n",
    "print(lst_par.index(4))\n",
    "\n",
    "print(lst_impar)\n",
    "print(lst_impar[0])\n",
    "print(lst_impar.index(3))\n",
    "\n",
    "# print(\"El total de numeros pares es de \", par)\n",
    "# print(\"El total de numeros impares es de \", imp)\n"
   ]
  },
  {
   "cell_type": "markdown",
   "id": "2b5efbc7-b7bc-4512-91d8-6354c639ccd0",
   "metadata": {},
   "source": [
    "## Frecuencia Absoluta"
   ]
  },
  {
   "cell_type": "code",
   "execution_count": 9,
   "id": "c2ef7d88-b324-4d2e-ad32-c13cf724e64e",
   "metadata": {},
   "outputs": [
    {
     "name": "stdout",
     "output_type": "stream",
     "text": [
      "[0, 5, 7, 6, 4, 2]\n",
      "[2, 3, 2, 1, 1, 2]\n"
     ]
    }
   ],
   "source": [
    "arreglo = [0, 0, 5, 7, 6, 4, 5, 2, 2, 5, 7]\n",
    "\n",
    "clases, frecuencia_acomulada = [], []\n",
    "\n",
    "for elemento in arreglo:\n",
    "\n",
    "    if elemento in clases:\n",
    "        continue\n",
    "    else:\n",
    "        clases.append(elemento)\n",
    "        rep = arreglo.count(elemento)\n",
    "        frecuencia_acomulada.append(rep)\n",
    "\n",
    "print(clases)\n",
    "print(frecuencia_acomulada)"
   ]
  },
  {
   "cell_type": "code",
   "execution_count": 160,
   "id": "c12ac37b-2d44-44e4-bf4f-ba8dbf4b63ae",
   "metadata": {},
   "outputs": [
    {
     "name": "stdout",
     "output_type": "stream",
     "text": [
      "[0, 5, 7, 6, 4, 2]\n",
      "[2, 3, 2, 1, 1, 2]\n"
     ]
    }
   ],
   "source": [
    "arreglo = [0, 0, 5, 7, 6, 4, 5, 2, 2, 5, 7]\n",
    "clases, frecuencia_abs = [], []\n",
    "\n",
    "for numero in arreglo:\n",
    "    if numero in clases:\n",
    "        frecuencia_abs[ clases.index(numero)] += 1\n",
    "    else:\n",
    "        clases.append(numero)\n",
    "        frecuencia_abs.append(1)\n",
    "\n",
    "\n",
    "print(clases)\n",
    "print(list_Frecuencia)"
   ]
  },
  {
   "cell_type": "markdown",
   "id": "7840e3e6-51ea-4734-a021-c207689ed120",
   "metadata": {},
   "source": [
    "## Ordenamiento de listas"
   ]
  },
  {
   "cell_type": "code",
   "execution_count": 1,
   "id": "33c47a28-4448-4dc5-9bb9-419dfa804d19",
   "metadata": {},
   "outputs": [
    {
     "name": "stdout",
     "output_type": "stream",
     "text": [
      "[1, 2, 3, 4]\n",
      "[2, 3, 3, 1]\n"
     ]
    }
   ],
   "source": [
    "lista = [1, 2, 3, 2, 2, 1, 3, 3, 4]\n",
    "clases, frecuencia_abs = [], []\n",
    "\n",
    "\n",
    "for elemento in lista:\n",
    "    if elemento in clases:\n",
    "        frecuencia_abs[clases.index(elemento)] += 1\n",
    "    else:\n",
    "        clases.append(elemento)\n",
    "        frecuencia_abs.append(1)\n",
    "        \n",
    "for i in range(len(clases)):\n",
    "  for j in range(len(clases) - i - 1):\n",
    "    if clases[j] > clases[j+1]:\n",
    "      clases[j], clases[j+1] = clases[j+1], clases[j]\n",
    "      frecuencia_abs[j], frecuencia_abs[j + 1] = frecuencia_abs[j + 1], frecuencia_abs[j]\n",
    "\n",
    "\n",
    "\n",
    "print(clases)\n",
    "print(frecuencia_abs)"
   ]
  },
  {
   "cell_type": "code",
   "execution_count": 19,
   "id": "1424c258-5428-42c4-994b-f86a49e71066",
   "metadata": {},
   "outputs": [
    {
     "name": "stdout",
     "output_type": "stream",
     "text": [
      "['agua', 'beso', 'crack', 'dedo', 'palabra uno', 'word dos']\n",
      "[2, 3, 3, 2, 1, 2]\n"
     ]
    }
   ],
   "source": [
    "lista = ['crack', 'beso', 'agua', 'dedo', 'crack', 'beso', 'beso', 'agua', 'palabra uno', 'word dos', 'word dos', 'crack', 'dedo']\n",
    "clases, frecuencia_abs = [], []\n",
    "\n",
    "for elemento in lista:\n",
    "    if elemento not in clases:\n",
    "        clases.append(elemento)\n",
    "        frecuencia_abs.append(1)\n",
    "    else:\n",
    "        idx = clases.index(elemento)\n",
    "        frecuencia_abs[idx] += 1\n",
    "        \n",
    "for i in range(len(clases)):\n",
    "  for j in range(len(clases) - i - 1):\n",
    "    if clases[j] > clases[j+1]:\n",
    "      clases[j], clases[j+1] = clases[j+1], clases[j]\n",
    "      frecuencia_abs[j], frecuencia_abs[j + 1] = frecuencia_abs[j + 1], frecuencia_abs[j]\n",
    "\n",
    "\n",
    "\n",
    "print(clases)\n",
    "print(frecuencia_abs)"
   ]
  },
  {
   "cell_type": "markdown",
   "id": "53e84a22-a794-4abb-a152-37f2223e3d44",
   "metadata": {},
   "source": [
    "### Metodo Doc"
   ]
  },
  {
   "cell_type": "code",
   "execution_count": 15,
   "id": "fceb968d-667c-4787-8333-b8d2723f84d6",
   "metadata": {},
   "outputs": [
    {
     "name": "stdout",
     "output_type": "stream",
     "text": [
      "[0, 1, 2, 3]\n",
      "[2, 3, 1, 2]\n"
     ]
    }
   ],
   "source": [
    "datos_entrada = [0, 1, 2, 0, 1, 3, 1, 3]\n",
    "\n",
    "clases, frecuencia_abs = [], []\n",
    "\n",
    "for elemento in datos_entrada:\n",
    "    if elemento not in clases:\n",
    "        clases.append(elemento)\n",
    "        frecuencia_abs.append(1)\n",
    "    else:\n",
    "        idx = clases.index(elemento)\n",
    "        frecuencia_abs[idx] += 1\n",
    "\n",
    "print(clases)\n",
    "print(frecuencia_abs)\n",
    "\n"
   ]
  },
  {
   "cell_type": "code",
   "execution_count": 23,
   "id": "25130b32-5423-42ac-8434-38b670790b57",
   "metadata": {},
   "outputs": [
    {
     "name": "stdout",
     "output_type": "stream",
     "text": [
      "[0, 2, 4, 5, 6, 7]\n",
      "[1, 1, 1, 1, 1, 1]\n"
     ]
    }
   ],
   "source": [
    "arreglo = [0, 5, 7, 6, 4, 2]\n",
    "\n",
    "clases, frecuencia_abs = [], []\n",
    "\n",
    "for elemento in arreglo:\n",
    "    if elemento not in clases:\n",
    "        clases.append(elemento)\n",
    "        frecuencia_abs.append(1)\n",
    "    else:\n",
    "        idx = clases.index(elemento)\n",
    "        frecuencia_abs[idx] += 1\n",
    "\n",
    "clases_len = len(clases)\n",
    "\n",
    "for i in range(clases_len):\n",
    "    min_idx = i\n",
    "    for j in range(- i - 1 + clases_len):\n",
    "        if clases[j + 1] < clases[j]:\n",
    "            clases[j], clases[j+1] = clases[j+1], clases[j]\n",
    "            frecuencia_abs[j], frecuencia_abs[j + 1] = frecuencia_abs[j + 1], frecuencia_abs[j]\n",
    "    \n",
    "\n",
    "print(clases)\n",
    "print(frecuencia_abs)"
   ]
  },
  {
   "cell_type": "code",
   "execution_count": 24,
   "id": "2776ff94-aca4-4443-967c-7546196b1b51",
   "metadata": {},
   "outputs": [
    {
     "name": "stdout",
     "output_type": "stream",
     "text": [
      "[1, 2, 4, 5, 6, 7]\n",
      "[2, 2, 2, 2, 2, 2]\n"
     ]
    }
   ],
   "source": [
    "clases_sorted = [1, 2, 4, 5, 6, 7]\n",
    "clases_orig = [0, 5, 7, 6, 4, 2]s\n",
    "fa_absolutas = [2, 3, 2, 1, 1, 2]\n",
    "\n",
    "fa_sorted = []\n",
    "\n",
    "for elementos in clases_sorted:\n",
    "    idx = clases_orig.index(elemento)\n",
    "    fa = fa_absolutas[idx]\n",
    "    fa_sorted.append(fa)\n",
    "\n",
    "print(clases_sorted)\n",
    "print(fa_sorted)"
   ]
  },
  {
   "cell_type": "markdown",
   "id": "04685da2-c3a4-4656-bf11-6270f6848cb5",
   "metadata": {},
   "source": [
    "## FUNCIONES\n"
   ]
  },
  {
   "cell_type": "code",
   "execution_count": 36,
   "id": "aaaf1209-060f-4c80-84b8-7b2563decf48",
   "metadata": {},
   "outputs": [],
   "source": [
    "def area_rectangulos(base, altura):\n",
    "    if base > 0 and altura > 0:\n",
    "        print(\"El area del rectangulo es igual a: \" , base * altura)\n",
    "    else:\n",
    "        print(\"Los numeros no deben de ser negativos\")"
   ]
  },
  {
   "cell_type": "code",
   "execution_count": 32,
   "id": "2552168f-4ae3-4ac9-b8ec-b7368f05ba98",
   "metadata": {},
   "outputs": [
    {
     "name": "stdout",
     "output_type": "stream",
     "text": [
      "El area del rectangulo es igual a:  2\n"
     ]
    }
   ],
   "source": [
    "area_rectangulos(2, 1)"
   ]
  },
  {
   "cell_type": "code",
   "execution_count": 34,
   "id": "88955f96-81ee-4b7f-95ba-5a8415130b61",
   "metadata": {},
   "outputs": [],
   "source": [
    "def suma_numeros(a, b):\n",
    "    return a + b"
   ]
  },
  {
   "cell_type": "code",
   "execution_count": 35,
   "id": "73bfb83b-13fa-4f81-a35e-b4b25e1ded17",
   "metadata": {},
   "outputs": [
    {
     "data": {
      "text/plain": [
       "10"
      ]
     },
     "execution_count": 35,
     "metadata": {},
     "output_type": "execute_result"
    }
   ],
   "source": [
    "suma_numeros(5, 5)"
   ]
  }
 ],
 "metadata": {
  "kernelspec": {
   "display_name": "Python 3 (ipykernel)",
   "language": "python",
   "name": "python3"
  },
  "language_info": {
   "codemirror_mode": {
    "name": "ipython",
    "version": 3
   },
   "file_extension": ".py",
   "mimetype": "text/x-python",
   "name": "python",
   "nbconvert_exporter": "python",
   "pygments_lexer": "ipython3",
   "version": "3.11.4"
  }
 },
 "nbformat": 4,
 "nbformat_minor": 5
}
