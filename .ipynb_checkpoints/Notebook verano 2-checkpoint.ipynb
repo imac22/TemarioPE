{
 "cells": [
  {
   "cell_type": "code",
   "execution_count": 3,
   "id": "2a33ab72-5e0a-40b9-9447-c9bd7037d9f9",
   "metadata": {},
   "outputs": [],
   "source": [
    "def frec_abs(datos_entrada):\n",
    "    '''\n",
    "    clases, fa_absoluta = frec_abs(datos_entrada)\n",
    "    Regresa las clases y frecuencias absolutas \n",
    "    de cada clase dada una lista de datos\n",
    "    \n",
    "    Ejemplo:\n",
    "    datos_entrada = [0, 1, 2, 0, 1, 3, 1, 3]\n",
    "    clases, fa_absoluta = frec_abs(datos_entrada)\n",
    "    >>> clases = [0, 1, 2, 3]\n",
    "    >>> fa_absoluta = [2, 3, 1, 2]\n",
    "    '''\n",
    "    clases, fa_absoluta = [], []\n",
    "    for elemento in datos_entrada:\n",
    "        if elemento not in clases:\n",
    "            clases.append(elemento)\n",
    "            fa_absoluta.append(1)\n",
    "        else:        \n",
    "            idx = clases.index(elemento)        \n",
    "            fa_absoluta[idx] += 1\n",
    "\n",
    "    return clases, fa_absoluta  "
   ]
  },
  {
   "cell_type": "code",
   "execution_count": 4,
   "id": "0fb98601-1bcd-446c-a15e-e59972ff0215",
   "metadata": {},
   "outputs": [],
   "source": [
    "def ordenar_asc(arreglo):\n",
    "    '''\n",
    "    Regresa el arreglo ordenado de forma\n",
    "    ascendente.\n",
    "    \n",
    "    Ejemplo:\n",
    "    arreglo = [0, 5, 7, 6, 4, 2]\n",
    "    arr_sorted = ordenar_asc(arreglo)\n",
    "    >>> [0, 2, 4, 5, 6, 7]\n",
    "    '''\n",
    "    arr_len = len(arreglo)\n",
    "\n",
    "    for i in range(arr_len):\n",
    "        min_idx = i\n",
    "        for j in range(i+1, arr_len):\n",
    "            if arreglo[j] < arreglo[min_idx]:\n",
    "                min_idx = j\n",
    "        arreglo[i], arreglo[min_idx] = arreglo[min_idx], arreglo[i]         \n",
    "\n",
    "    return arreglo"
   ]
  },
  {
   "cell_type": "code",
   "execution_count": 5,
   "id": "32ffd0a5-e1f2-46dd-b295-0857b1461f66",
   "metadata": {},
   "outputs": [],
   "source": [
    "def sort_clases_fa(clases_originales, clases_sorted, fa_absolutas):\n",
    "    '''\n",
    "    Regresa lista de frecuencias absolutas ordenadas\n",
    "    \n",
    "    Ejemplo:    \n",
    "    clases_originales = [0, 5, 7, 6, 4, 2]\n",
    "    clases_sorted = [0, 2, 4, 5, 6, 7]\n",
    "    fa_absolutas = [2, 3, 2, 1, 1, 2]\n",
    "    fa_sorted = sort_clases_fa(clases_originales, clases_sorted, fa_absolutas):\n",
    "    >>> [2, 2, 1, 3, 1, 2] \n",
    "    '''\n",
    "\n",
    "    fa_sorted = []\n",
    "    for elemento in clases_sorted:\n",
    "        idx = clases_originales.index(elemento)\n",
    "        fa = fa_absolutas[idx]\n",
    "        fa_sorted.append(fa)\n",
    "\n",
    "    return fa_sorted"
   ]
  },
  {
   "cell_type": "code",
   "execution_count": 78,
   "id": "655296f2-bcaf-47c1-929e-2c788cdd58f8",
   "metadata": {},
   "outputs": [],
   "source": []
  },
  {
   "cell_type": "code",
   "execution_count": 59,
   "id": "8a3f668c-78c6-4b4b-ba2d-4ba97ef21e88",
   "metadata": {},
   "outputs": [
    {
     "name": "stdout",
     "output_type": "stream",
     "text": [
      "[2, 2, 1, 3, 1, 2]\n"
     ]
    }
   ],
   "source": [
    "clases_originales = [0, 5, 7, 6, 4, 2]\n",
    "clases_sorted = [0, 2, 4, 5, 6, 7]\n",
    "fa_absolutas = [2, 3, 2, 1, 1, 2]\n",
    "fa_sorted = sort_clases_fa(clases_originales, clases_sorted, fa_absolutas)\n",
    "print(fa_sorted)    "
   ]
  },
  {
   "cell_type": "code",
   "execution_count": 60,
   "id": "bb00ba27-e879-4274-b874-904c9c64e5d1",
   "metadata": {},
   "outputs": [
    {
     "name": "stdout",
     "output_type": "stream",
     "text": [
      "[0, 2, 4, 5, 6, 7]\n"
     ]
    }
   ],
   "source": [
    "arreglo = [0, 5, 7, 6, 4, 2]\n",
    "arr_sorted = ordenar_asc(arreglo)\n",
    "print(arr_sorted)"
   ]
  },
  {
   "cell_type": "code",
   "execution_count": 61,
   "id": "e36db533-3b87-42f7-8865-7494d073b77a",
   "metadata": {},
   "outputs": [
    {
     "name": "stdout",
     "output_type": "stream",
     "text": [
      "[0, 1, 2, 3]\n",
      "[2, 3, 1, 2]\n"
     ]
    }
   ],
   "source": [
    "datos_entrada = [0, 1, 2, 0, 1, 3, 1, 3]\n",
    "clases, fa_absoluta = frec_abs(datos_entrada)\n",
    "print(clases)\n",
    "print(fa_absoluta)"
   ]
  },
  {
   "cell_type": "code",
   "execution_count": 62,
   "id": "38b792f0-9d7f-4c91-893e-fb337fa73670",
   "metadata": {},
   "outputs": [
    {
     "name": "stdout",
     "output_type": "stream",
     "text": [
      "[0, 5, 7, 6, 4, 2]\n",
      "[2, 3, 2, 1, 1, 2]\n"
     ]
    }
   ],
   "source": [
    "datos_entrada = [0, 0, 5, 7, 6, 4, 5, 2, 2, 5, 7]\n",
    "clases, fa_absoluta = frec_abs(datos_entrada)\n",
    "print(clases)\n",
    "print(fa_absoluta)"
   ]
  },
  {
   "cell_type": "code",
   "execution_count": 6,
   "id": "ddcb7385-1e16-4ce2-be88-69baba5f5de5",
   "metadata": {},
   "outputs": [],
   "source": [
    "def calc_fr(fa_sorted):\n",
    "    fr = []\n",
    "    total = sum(fa_absoluta)\n",
    "    for elemento in fa_absoluta:\n",
    "        num = (elemento / total) * 100\n",
    "        fr.append(num)\n",
    "    return fr"
   ]
  },
  {
   "cell_type": "code",
   "execution_count": 7,
   "id": "a8347005-596d-414a-937d-2168e114f81f",
   "metadata": {},
   "outputs": [],
   "source": [
    "def calc_fa(fr):\n",
    "    fa = []\n",
    "    suma_frecuencias = 0\n",
    "    for elemento in fr:\n",
    "        suma_frecuencias += elemento\n",
    "        fa.append(suma_frecuencias)\n",
    "    return fa"
   ]
  },
  {
   "cell_type": "code",
   "execution_count": 8,
   "id": "ea729f6c-75b1-4d9c-af80-513d5d4d4f6a",
   "metadata": {},
   "outputs": [
    {
     "name": "stdout",
     "output_type": "stream",
     "text": [
      "Clases:  [1, 2, 3, 4, 5]\n",
      "Frec. absoluta:  [2, 4, 6, 8, 10]\n",
      "Frecuencia relativa:  [6.666666666666667, 13.333333333333334, 20.0, 26.666666666666668, 33.33333333333333]\n",
      "Frecuencia acomulada:  [6.666666666666667, 20.0, 40.0, 66.66666666666667, 100.0]\n"
     ]
    }
   ],
   "source": [
    "datos_entrada = [1, 2, 2, 3, 3, 3, 4, 4, 4, 4,5 ,5 , 5, 5, 5, 5, 5, 5, 5, 5, 4, 4, 4, 4, 3, 3, 3, 2, 2, 1]\n",
    "clases, fa_absoluta = frec_abs(datos_entrada)\n",
    "clases_sorted = ordenar_asc(clases)\n",
    "fa_sorted = sort_clases_fa(clases, clases_sorted, fa_absoluta)\n",
    "fr_relativa = calc_fr(fa_sorted)\n",
    "fr_acomulada = calc_fa(fr_relativa)\n",
    "\n",
    "print('Clases: ', clases_sorted)\n",
    "print('Frec. absoluta: ', fa_sorted)\n",
    "print('Frecuencia relativa: ', fr_relativa)\n",
    "print('Frecuencia acomulada: ', fr_acomulada)"
   ]
  },
  {
   "cell_type": "code",
   "execution_count": 1,
   "id": "c41045c7-1017-4422-9e75-0c89f3b46798",
   "metadata": {},
   "outputs": [
    {
     "data": {
      "text/plain": [
       "'\\nPasos:\\n    Crea una carpeta.\\n    Agrega los archivos correspodientes.\\n    cada quien trabaja en cu parte del codigo en el devido archivo personal dentro de la carpeta.\\n'"
      ]
     },
     "execution_count": 1,
     "metadata": {},
     "output_type": "execute_result"
    }
   ],
   "source": [
    "'''\n",
    "Pasos:\n",
    "    Crea una carpeta.\n",
    "    Agrega los archivos correspodientes.\n",
    "    cada quien trabaja en cu parte del codigo en el devido archivo personal dentro de la carpeta.\n",
    "'''\n",
    "'''\n",
    "\n",
    "\n",
    "# import \"nombre de la carpeta\".\"nombre del archivo\" as x"
   ]
  }
 ],
 "metadata": {
  "kernelspec": {
   "display_name": "Python 3 (ipykernel)",
   "language": "python",
   "name": "python3"
  },
  "language_info": {
   "codemirror_mode": {
    "name": "ipython",
    "version": 3
   },
   "file_extension": ".py",
   "mimetype": "text/x-python",
   "name": "python",
   "nbconvert_exporter": "python",
   "pygments_lexer": "ipython3",
   "version": "3.11.4"
  }
 },
 "nbformat": 4,
 "nbformat_minor": 5
}
